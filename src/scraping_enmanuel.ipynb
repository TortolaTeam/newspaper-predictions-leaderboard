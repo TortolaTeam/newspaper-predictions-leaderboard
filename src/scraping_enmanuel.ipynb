{
 "cells": [
  {
   "cell_type": "code",
   "execution_count": 1,
   "metadata": {},
   "outputs": [],
   "source": [
    "## Codigo Scraping 04-02-24 \n",
    "'''\n",
    "Siempre añadir user_data_dir y browser_executable_path\n",
    "Añadidas opciones para que no pida contraseña\n",
    "Cargar extensiones en el navegador como Ublock y VPN\n",
    "\n",
    "'''\n",
    "\n",
    "import undetected_chromedriver as uc\n",
    "\n",
    "options = uc.ChromeOptions()\n",
    "options.headless = False  # Cambia a True si deseas que sea headless (sin interfaz gráfica)\n",
    "options.add_argument(\"--disable-blink-features=AutomationControlled\")\n",
    "options.add_argument(\"--password-store=basic\")\n",
    "\n",
    "options.add_experimental_option(\n",
    "    \"prefs\",\n",
    "    {\n",
    "        \"credentials_enable_service\": False,\n",
    "        \"profile.password_manager_enabled\": False,\n",
    "    }\n",
    ")\n",
    "\n",
    "driver = uc.Chrome(options = options,\n",
    "                user_data_dir='/home/tr4shhh/Desktop/Proyects/Perfiles_chrome/Perfil_uc/', # CUALQUIER CARPETA PERFIL\n",
    "                browser_executable_path='/usr/bin/chromium-browser', # RUTA DEL EJECUTABLE DEL NAVEGADOR\n",
    "                )\n",
    "\n",
    "# Establecer el tamaño de la pantalla (ancho x alto)\n",
    "driver.set_window_size(1200, 800)"
   ]
  },
  {
   "cell_type": "code",
   "execution_count": 12,
   "metadata": {},
   "outputs": [],
   "source": [
    "driver.get('https://www.enterat.com/actualidad/periodicos-digitales-espana.php')"
   ]
  },
  {
   "cell_type": "code",
   "execution_count": 16,
   "metadata": {},
   "outputs": [],
   "source": [
    "\n",
    "from selenium.webdriver.common.by import By\n",
    "\n",
    "ruta_periodico = '/html/body/div/div[2]/div[1]/div[5]/a'\n",
    "\n",
    "\n",
    "ruta_primer_periodico = driver.find_elements(By.XPATH,ruta_periodico)\n",
    "\n",
    "lista_periodicos = []\n",
    "\n",
    "for periodico in ruta_primer_periodico:\n",
    "\n",
    "    lista_periodicos.append(periodico.get_attribute('href'))"
   ]
  },
  {
   "cell_type": "code",
   "execution_count": 17,
   "metadata": {},
   "outputs": [
    {
     "name": "stdout",
     "output_type": "stream",
     "text": [
      "['https://www.20minutos.es/', 'https://www.abc.es/', 'https://www.elconfidencial.com/', 'https://www.eldebate.com/', 'https://www.eldiario.es/', 'https://www.elespanol.com/', 'https://www.huffingtonpost.es/', 'https://www.elmundo.es/', 'https://www.elpais.com/', 'https://www.larazon.es/', 'https://www.libertaddigital.com/', 'https://okdiario.com/', 'https://www.publico.es/', 'https://www.as.com/', 'https://www.marca.com/', 'https://www.mundodeportivo.com/', 'https://www.relevo.com/', 'https://cincodias.elpais.com/', 'https://www.eleconomista.es/', 'https://www.expansion.com/', 'https://www.elconfidencialdigital.com/', 'https://www.elindependiente.com/', 'https://www.epe.es/', 'https://www.elplural.com/', 'https://www.esdiario.com/', 'https://www.infolibre.es/', 'https://www.lainformacion.com/', 'https://www.newtral.es/', 'https://www.periodistadigital.com/', 'https://theobjective.com/', 'https://www.vozpopuli.com/', 'https://www.donbalon.com/', 'https://www.elespanol.com/elbernabeu/', 'https://www.eldesmarque.com/', 'https://www.fichajes.net/', 'https://www.bolsamania.com/', 'https://www.elconfidencial.com/mercados/', 'https://www.economiadigital.es/', 'https://www.finanzas.com/', 'https://www.elespanol.com/invertia/', 'https://www.libremercado.com/', 'https://www.merca2.es/', 'https://ctxt.es/', 'https://diario16.com/', 'https://elcierredigital.com/', 'https://www.elimparcial.es/', 'https://www.elsaltodiario.com/', 'https://www.hispanidad.com/', 'https://www.gaceta.es/', 'https://www.lamarea.com/', 'https://maldita.es/', 'https://www.moncloa.com/', 'https://www.nuevatribuna.es/', 'https://www.que.es/', 'https://www.republica.com/']\n"
     ]
    }
   ],
   "source": [
    "print(lista_periodicos)"
   ]
  },
  {
   "cell_type": "code",
   "execution_count": 19,
   "metadata": {},
   "outputs": [],
   "source": [
    "import time\n",
    "import random\n",
    "\n",
    "for periodico in lista_periodicos:\n",
    "\n",
    "    driver.get(periodico)\n",
    "    time.sleep(4)"
   ]
  }
 ],
 "metadata": {
  "kernelspec": {
   "display_name": "venv",
   "language": "python",
   "name": "python3"
  },
  "language_info": {
   "codemirror_mode": {
    "name": "ipython",
    "version": 3
   },
   "file_extension": ".py",
   "mimetype": "text/x-python",
   "name": "python",
   "nbconvert_exporter": "python",
   "pygments_lexer": "ipython3",
   "version": "3.11.6"
  }
 },
 "nbformat": 4,
 "nbformat_minor": 2
}
