{
    "cells": [
        {
            "cell_type": "markdown",
            "metadata": {},
            "source": [
                "### Como manejar Github"
            ]
        },
        {
            "cell_type": "markdown",
            "metadata": {},
            "source": [
                "Primero verificamos que estemos al dia con las actualizaciones cambiando a la rama principal y actualizandola"
            ]
        },
        {
            "cell_type": "code",
            "execution_count": 1,
            "metadata": {
                "vscode": {
                    "languageId": "shellscript"
                }
            },
            "outputs": [
                {
                    "name": "stdout",
                    "output_type": "stream",
                    "text": [
                        "Already on 'main'\n",
                        "Your branch is up to date with 'origin/main'.\n",
                        "From https://github.com/gutierenmanuel/newspaper-predictions\n",
                        " * branch            main       -> FETCH_HEAD\n",
                        "Already up to date.\n"
                    ]
                }
            ],
            "source": [
                "!git checkout main\n",
                "!git pull origin main"
            ]
        },
        {
            "cell_type": "markdown",
            "metadata": {},
            "source": [
                "Luego para CUALQUIER CAMBIO que hagamos, creamos una rama y nos movemos a ella"
            ]
        },
        {
            "cell_type": "markdown",
            "metadata": {},
            "source": [
                "CAMBIAR NOMBRE RAMA"
            ]
        },
        {
            "cell_type": "code",
            "execution_count": 2,
            "metadata": {
                "vscode": {
                    "languageId": "shellscript"
                }
            },
            "outputs": [
                {
                    "name": "stdout",
                    "output_type": "stream",
                    "text": [
                        "Switched to a new branch 'enmanuel'\n"
                    ]
                }
            ],
            "source": [
                "!git checkout -b enmanuel"
            ]
        },
        {
            "cell_type": "markdown",
            "metadata": {},
            "source": [
                "para cambiar a esa rama tambien usamos"
            ]
        },
        {
            "cell_type": "code",
            "execution_count": 3,
            "metadata": {
                "vscode": {
                    "languageId": "shellscript"
                }
            },
            "outputs": [
                {
                    "name": "stdout",
                    "output_type": "stream",
                    "text": [
                        "Already on 'enmanuel'\n"
                    ]
                }
            ],
            "source": [
                "!git switch enmanuel"
            ]
        },
        {
            "cell_type": "markdown",
            "metadata": {},
            "source": [
                "DESARROLLAMOS y confirmamos los cambios"
            ]
        },
        {
            "cell_type": "code",
            "execution_count": 1,
            "metadata": {
                "vscode": {
                    "languageId": "shellscript"
                }
            },
            "outputs": [
                {
                    "name": "stdout",
                    "output_type": "stream",
                    "text": [
                        "[main 24029c4] Cambios github\n",
                        " 1 file changed, 333 insertions(+)\n",
                        " create mode 100644 github.ipynb\n"
                    ]
                }
            ],
            "source": [
                "!git add .\n",
                "!git commit -m \"Cambios github\"\n"
            ]
        },
        {
            "cell_type": "markdown",
            "metadata": {},
            "source": [
                "Antes de sincronizar con la rama principal nos volvemos a asegurar de que este actualizada"
            ]
        },
        {
            "cell_type": "code",
            "execution_count": 2,
            "metadata": {
                "vscode": {
                    "languageId": "shellscript"
                }
            },
            "outputs": [
                {
                    "name": "stdout",
                    "output_type": "stream",
                    "text": [
                        "Already on 'main'\n",
                        "Your branch is ahead of 'origin/main' by 1 commit.\n",
                        "  (use \"git push\" to publish your local commits)\n"
                    ]
                },
                {
                    "name": "stdout",
                    "output_type": "stream",
                    "text": [
                        "From https://github.com/gutierenmanuel/newspaper-predictions\n",
                        " * branch            main       -> FETCH_HEAD\n",
                        "Already up to date.\n"
                    ]
                }
            ],
            "source": [
                "!git checkout main\n",
                "!git pull origin main\n"
            ]
        },
        {
            "cell_type": "markdown",
            "metadata": {},
            "source": [
                "Y ahora fusionamos la rama con características en la rama principal."
            ]
        },
        {
            "cell_type": "code",
            "execution_count": 7,
            "metadata": {
                "vscode": {
                    "languageId": "shellscript"
                }
            },
            "outputs": [
                {
                    "name": "stdout",
                    "output_type": "stream",
                    "text": [
                        "Updating 32824dc..bf39344\n",
                        "error: The following untracked working tree files would be overwritten by merge:\n",
                        "\tsrc/github.ipynb\n",
                        "Please move or remove them before you merge.\n",
                        "Aborting\n"
                    ]
                }
            ],
            "source": [
                "!git merge enmanuel -m \"mensaje\""
            ]
        },
        {
            "cell_type": "markdown",
            "metadata": {},
            "source": [
                "Y una vez fusionadas, actualizamos el repositorio remoto"
            ]
        },
        {
            "cell_type": "code",
            "execution_count": 2,
            "metadata": {},
            "outputs": [],
            "source": [
                "import subprocess\n",
                "\n",
                "\n",
                "comando = \"git push origin main\"\n",
                "\n",
                "# Ejecutar el comando en la terminal\n",
                "resultado = subprocess.run(comando, shell=True, capture_output=True, text=True)\n",
                "\n"
            ]
        },
        {
            "cell_type": "markdown",
            "metadata": {},
            "source": [
                "y actualizamos tambien nuestra rama"
            ]
        },
        {
            "cell_type": "code",
            "execution_count": 3,
            "metadata": {
                "vscode": {
                    "languageId": "shellscript"
                }
            },
            "outputs": [
                {
                    "name": "stdout",
                    "output_type": "stream",
                    "text": [
                        "Switched to branch 'enmanuel'\n",
                        "From https://github.com/gutierenmanuel/newspaper-predictions\n",
                        " * branch            main       -> FETCH_HEAD\n",
                        "Already up to date.\n"
                    ]
                }
            ],
            "source": [
                "!git switch enmanuel\n",
                "!git pull origin main"
            ]
        },
        {
            "cell_type": "markdown",
            "metadata": {},
            "source": [
                "### Si modificas sin querer el main: "
            ]
        },
        {
            "cell_type": "markdown",
            "metadata": {},
            "source": [
                "Compruebas los archivos que has modificado, creado o borrado"
            ]
        },
        {
            "cell_type": "code",
            "execution_count": null,
            "metadata": {
                "vscode": {
                    "languageId": "shellscript"
                }
            },
            "outputs": [],
            "source": [
                "!git diff --name-only HEAD^ HEAD"
            ]
        },
        {
            "cell_type": "markdown",
            "metadata": {},
            "source": [
                "RESPALDALOS, y devuelve el main a su estado anterior con"
            ]
        },
        {
            "cell_type": "code",
            "execution_count": null,
            "metadata": {
                "vscode": {
                    "languageId": "shellscript"
                }
            },
            "outputs": [],
            "source": [
                "!git reset --hard HEAD~1\n"
            ]
        }
    ],
    "metadata": {
        "kernelspec": {
            "display_name": "Python 3.8.13 64-bit ('3.8.13')",
            "language": "python",
            "name": "python3"
        },
        "language_info": {
            "codemirror_mode": {
                "name": "ipython",
                "version": 3
            },
            "file_extension": ".py",
            "mimetype": "text/x-python",
            "name": "python",
            "nbconvert_exporter": "python",
            "pygments_lexer": "ipython3",
            "version": "3.11.6"
        },
        "orig_nbformat": 4,
        "vscode": {
            "interpreter": {
                "hash": "110cc1dee26208153f2972f08a2ad52b6a56238dc66d48e87fb757ef2996db56"
            }
        }
    },
    "nbformat": 4,
    "nbformat_minor": 2
}
